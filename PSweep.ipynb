{
 "cells": [
  {
   "cell_type": "code",
   "execution_count": 2,
   "id": "c8d9a757",
   "metadata": {},
   "outputs": [],
   "source": [
    "import subprocess\n",
    "import ltspice"
   ]
  },
  {
   "cell_type": "code",
   "execution_count": 26,
   "id": "3e072580",
   "metadata": {},
   "outputs": [
    {
     "data": {
      "text/plain": [
       "CompletedProcess(args=['/Applications/LTspice.app/Contents/MacOS/LTspice', '-b', '/Users/nilocrook/Documents/Ltspice/Untitled.cir'], returncode=255)"
      ]
     },
     "execution_count": 26,
     "metadata": {},
     "output_type": "execute_result"
    }
   ],
   "source": [
    "lts_path = \"/Applications/LTspice.app/Contents/MacOS/LTspice\"\n",
    "circuit_file = \"/Users/nilocrook/Documents/Ltspice/Untitled.cir\"\n",
    "\n",
    "what = [lts_path, '-b', circuit_file] # -b for batch mode (impide q se abra GUI, dejando el control del programa en python), -run to run the simulation, -ascii to get ASCII output (no anda en mac)\n",
    "\n",
    "subprocess.run(what)"
   ]
  },
  {
   "cell_type": "code",
   "execution_count": null,
   "id": "9fcf5539",
   "metadata": {},
   "outputs": [
    {
     "data": {
      "text/plain": [
       "255"
      ]
     },
     "execution_count": 25,
     "metadata": {},
     "output_type": "execute_result"
    }
   ],
   "source": []
  },
  {
   "cell_type": "code",
   "execution_count": null,
   "id": "14451d7c",
   "metadata": {},
   "outputs": [],
   "source": []
  }
 ],
 "metadata": {
  "kernelspec": {
   "display_name": "Python 3",
   "language": "python",
   "name": "python3"
  },
  "language_info": {
   "codemirror_mode": {
    "name": "ipython",
    "version": 3
   },
   "file_extension": ".py",
   "mimetype": "text/x-python",
   "name": "python",
   "nbconvert_exporter": "python",
   "pygments_lexer": "ipython3",
   "version": "3.13.2"
  }
 },
 "nbformat": 4,
 "nbformat_minor": 5
}
